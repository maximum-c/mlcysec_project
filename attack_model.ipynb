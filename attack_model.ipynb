{
  "nbformat": 4,
  "nbformat_minor": 0,
  "metadata": {
    "colab": {
      "name": "experiments1.ipynb",
      "provenance": [],
      "authorship_tag": "ABX9TyO67rghcxLf8+4gj91aCvNO",
      "include_colab_link": true
    },
    "kernelspec": {
      "name": "python3",
      "display_name": "Python 3"
    },
    "language_info": {
      "name": "python"
    }
  },
  "cells": [
    {
      "cell_type": "markdown",
      "metadata": {
        "id": "view-in-github",
        "colab_type": "text"
      },
      "source": [
        "<a href=\"https://colab.research.google.com/github/maximum-c/mlcysec_project/blob/main/attack_model.ipynb\" target=\"_parent\"><img src=\"https://colab.research.google.com/assets/colab-badge.svg\" alt=\"Open In Colab\"/></a>"
      ]
    },
    {
      "cell_type": "code",
      "execution_count": 24,
      "metadata": {
        "colab": {
          "base_uri": "https://localhost:8080/"
        },
        "id": "Vt_vNz1V7_Tv",
        "outputId": "4cfebe5d-c5a7-4087-ba27-1dc3c083bf2d"
      },
      "outputs": [
        {
          "output_type": "stream",
          "name": "stdout",
          "text": [
            "[nltk_data] Downloading package wordnet to /root/nltk_data...\n",
            "[nltk_data]   Package wordnet is already up-to-date!\n",
            "[nltk_data] Downloading package sentiwordnet to /root/nltk_data...\n",
            "[nltk_data]   Package sentiwordnet is already up-to-date!\n"
          ]
        },
        {
          "output_type": "execute_result",
          "data": {
            "text/plain": [
              "True"
            ]
          },
          "metadata": {},
          "execution_count": 24
        }
      ],
      "source": [
        "import os\n",
        "import re\n",
        "import numpy as np\n",
        "import pandas as pd\n",
        "import nltk\n",
        "nltk.download('wordnet')\n",
        "nltk.download('sentiwordnet')"
      ]
    },
    {
      "cell_type": "code",
      "source": [
        "os.system('pip install detoxify')"
      ],
      "metadata": {
        "colab": {
          "base_uri": "https://localhost:8080/"
        },
        "id": "Vi4J31DO85q3",
        "outputId": "d7a2e364-96ba-49e4-d0d6-578a720b8e15"
      },
      "execution_count": 4,
      "outputs": [
        {
          "output_type": "execute_result",
          "data": {
            "text/plain": [
              "0"
            ]
          },
          "metadata": {},
          "execution_count": 4
        }
      ]
    },
    {
      "cell_type": "code",
      "source": [
        "from detoxify import Detoxify\n",
        "from nltk.corpus import sentiwordnet as swn"
      ],
      "metadata": {
        "id": "TQnc9Nvg8mg9"
      },
      "execution_count": 5,
      "outputs": []
    },
    {
      "cell_type": "code",
      "source": [
        "positive = []\n",
        "for s in swn.all_senti_synsets():\n",
        " if s.pos_score() >= 0.8: \n",
        "   m = re.search('\\w+',s.synset.name())\n",
        "   m = m.group(0)\n",
        "   positive.append(m)\n",
        "positive = np.asarray(positive)"
      ],
      "metadata": {
        "id": "LY1aKrM68kpo"
      },
      "execution_count": 53,
      "outputs": []
    },
    {
      "cell_type": "code",
      "source": [
        "def attack_model(model, input_text, num_added_words):\n",
        "  add_words = np.random.choice(positive, num_added_words)\n",
        "  input_poisoned = input_text\n",
        "  for w in add_words: \n",
        "    input_poisoned = input_poisoned + f' {w}'\n",
        "  #return input_poisoned\n",
        "  return Detoxify(model).predict(input_poisoned)\n"
      ],
      "metadata": {
        "id": "uGmbOUXmDi2u"
      },
      "execution_count": 54,
      "outputs": []
    },
    {
      "cell_type": "code",
      "source": [
        ""
      ],
      "metadata": {
        "colab": {
          "base_uri": "https://localhost:8080/",
          "height": 36
        },
        "id": "pZR70pt5GRwv",
        "outputId": "819f75f6-600c-48ed-eee9-1e70b4dcfa47"
      },
      "execution_count": 51,
      "outputs": [
        {
          "output_type": "execute_result",
          "data": {
            "application/vnd.google.colaboratory.intrinsic+json": {
              "type": "string"
            },
            "text/plain": [
              "'I hate you fabulous make profit make'"
            ]
          },
          "metadata": {},
          "execution_count": 51
        }
      ]
    }
  ]
}